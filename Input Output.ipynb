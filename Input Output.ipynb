{
 "cells": [
  {
   "cell_type": "code",
   "execution_count": 7,
   "id": "1556fa3d",
   "metadata": {
    "scrolled": true
   },
   "outputs": [
    {
     "name": "stdout",
     "output_type": "stream",
     "text": [
      "insert your first name:syahril\n",
      "inser your middle name:gibran\n",
      "insert your last name:wangsa guna\n",
      "hello world syahril gibran wangsa guna !!\n"
     ]
    }
   ],
   "source": [
    "first_name = input ('insert your first name:')\n",
    "middle_name = input ('inser your middle name:')\n",
    "last_name = input (\"insert your last name:\")\n",
    "print(\"hello world\", first_name, middle_name, last_name,\"!!\")"
   ]
  },
  {
   "cell_type": "code",
   "execution_count": 31,
   "id": "85d20e61",
   "metadata": {},
   "outputs": [
    {
     "ename": "IndentationError",
     "evalue": "unexpected indent (1603500476.py, line 3)",
     "output_type": "error",
     "traceback": [
      "\u001b[1;36m  Input \u001b[1;32mIn [31]\u001b[1;36m\u001b[0m\n\u001b[1;33m    panjang= input (\"masukan nilai sisi panjang\")\u001b[0m\n\u001b[1;37m    ^\u001b[0m\n\u001b[1;31mIndentationError\u001b[0m\u001b[1;31m:\u001b[0m unexpected indent\n"
     ]
    }
   ],
   "source": [
    "print(\"menghitung luas dan keliling persegi panjang\")\n",
    " \n",
    "    panjang= input (\"masukan nilai sisi panjang\")\n",
    "    luas   = input (\"masukan nilai sisi lebar\")\n",
    "    \n",
    "    luas     = int(panjang) *  int(lebar)\n",
    "    keliling = 2 * (int(panjang) + int(lebar))\n",
    "    \n",
    "    print(\"luas perssegi panjang\", luas)\n",
    "    print(\"keliling persegi panjang\", keliling)\n",
    "    \n"
   ]
  },
  {
   "cell_type": "code",
   "execution_count": 21,
   "id": "67c8b906",
   "metadata": {},
   "outputs": [
    {
     "name": "stdout",
     "output_type": "stream",
     "text": [
      "18\n",
      "oktober\n",
      "2024\n",
      "18\n",
      "oktober\n",
      "2024\n"
     ]
    }
   ],
   "source": [
    "print(\"18\",\"oktober\",\"2024\",sep='\\n') \n",
    "#18\n",
    "#oktober\n",
    "#2024\n",
    "print(\"18\",\"oktober\",\"2024\",sep='\\n')#Escape character"
   ]
  },
  {
   "cell_type": "code",
   "execution_count": 25,
   "id": "c565e20f",
   "metadata": {},
   "outputs": [
    {
     "name": "stdout",
     "output_type": "stream",
     "text": [
      "1****************************************2****************************************3****************************************4......"
     ]
    }
   ],
   "source": [
    "print(\"1\",\"2\",\"3\",\"4\", sep=\"*\" * 40, end=\".\" * 6)"
   ]
  },
  {
   "cell_type": "code",
   "execution_count": 26,
   "id": "1e1c49ee",
   "metadata": {},
   "outputs": [
    {
     "name": "stdout",
     "output_type": "stream",
     "text": [
      "Memformat output\n",
      "luas persegi dengan lebar10 dan panjang20 + 200\n"
     ]
    }
   ],
   "source": [
    "print(\"Memformat output\")\n",
    "\n",
    "l = 10\n",
    "p = 20\n",
    "\n",
    "print(\"luas persegi dengan lebar{} dan panjang{} + {}\".format(l,p,l*p))\n"
   ]
  },
  {
   "cell_type": "code",
   "execution_count": 32,
   "id": "870129b8",
   "metadata": {},
   "outputs": [
    {
     "name": "stdout",
     "output_type": "stream",
     "text": [
      "Memformat dengan index\n",
      "Nama-nama bulan januari,februari\n"
     ]
    }
   ],
   "source": [
    "print(\"Memformat dengan index\")\n",
    "\n",
    "bulan1 = \"januari\"\n",
    "bulan2 = \"februari\"\n",
    "\n",
    "print(\"Nama-nama bulan {0},{1}\".format(bulan1,bulan2))"
   ]
  },
  {
   "cell_type": "code",
   "execution_count": 45,
   "id": "2be859c0",
   "metadata": {},
   "outputs": [
    {
     "name": "stdout",
     "output_type": "stream",
     "text": [
      "Nama saya syahrilgibran\n"
     ]
    }
   ],
   "source": [
    "#Memformat dengan tanda pengenal\n",
    "\n",
    "print(\"Nama saya {fname}{lname}\".format(fname = \"syahril\" , lname =\"gibran\"))"
   ]
  },
  {
   "cell_type": "code",
   "execution_count": 40,
   "id": "af085774",
   "metadata": {},
   "outputs": [
    {
     "name": "stdout",
     "output_type": "stream",
     "text": [
      "U\n",
      "a\n",
      "Universitas\n",
      "Nusa putra\n",
      "putra\n",
      "artup asuN satisrevinU\n"
     ]
    }
   ],
   "source": [
    "kampus = \"Universitas Nusa putra\"\n",
    "print(kampus[0]) #u\n",
    "print(kampus[-1]) #a\n",
    "\n",
    "#menggunakan range\n",
    "print(kampus[0:11])\n",
    "print(kampus[12:])\n",
    "print(kampus[-5:])\n",
    "print(kampus[::-1])"
   ]
  },
  {
   "cell_type": "code",
   "execution_count": 43,
   "id": "6adc8b7b",
   "metadata": {},
   "outputs": [
    {
     "name": "stdout",
     "output_type": "stream",
     "text": [
      "luas persegi = 200\n",
      "keliling persegi =60\n"
     ]
    }
   ],
   "source": [
    "p = 10\n",
    "l = 20\n",
    "\n",
    "print(f'luas persegi = {l*p}')\n",
    "print(f'keliling persegi ={2 * (p+l)}')"
   ]
  },
  {
   "cell_type": "code",
   "execution_count": 54,
   "id": "5ae3a780",
   "metadata": {},
   "outputs": [
    {
     "name": "stdout",
     "output_type": "stream",
     "text": [
      "['Andri', 'Budi', 'Doni']\n",
      "Andri@Budi@Doni\n"
     ]
    }
   ],
   "source": [
    "nama_siswa = \"Andri,Budi,Doni\"\n",
    "\n",
    "print(nama_siswa.split(','))\n",
    "print('@'.join(nama_siswa.split(',')))\n"
   ]
  },
  {
   "cell_type": "code",
   "execution_count": 91,
   "id": "c344dbc1",
   "metadata": {},
   "outputs": [
    {
     "name": "stdout",
     "output_type": "stream",
     "text": [
      "isikan nama anda:syahril\n",
      "isikan tanggal lahir:28\n",
      "isikan bulan lahir:05\n",
      "nama anda: syahril\n",
      "tgl lahir: 28\n",
      "bulan_lahir: 05\n",
      "inisial : s\n"
     ]
    }
   ],
   "source": [
    "#buat program\n",
    "#input => Tedi Wijaya\n",
    "#input => 18/12/2003\n",
    "\n",
    "#output     :\n",
    "#nama anda  : Tedi Wijaya\n",
    "#Tgl lahir  : 18\n",
    "#bulan lahir: 12\n",
    "#Tahun lahir: 2003\n",
    "#inisial    : TW\n",
    "\n",
    "nama= input (\"isikan nama anda:\")\n",
    "tgl_lahir = input (\"isikan tanggal lahir:\")\n",
    "bulan_lahir = input (\"isikan bulan lahir:\")\n",
    "\n",
    "tgls = tgl_lahir.split('/')\n",
    "bulans = bulan_lahir.split('/')\n",
    "\n",
    "print(f\"nama anda: {nama}\")\n",
    "print(f\"tgl lahir: {tgls[0]}\")\n",
    "print(f\"bulan_lahir: {bulans[0]}\")\n",
    "print(f\"inisial : {nama[0:1]}{nama[6:0]}\")"
   ]
  }
 ],
 "metadata": {
  "kernelspec": {
   "display_name": "Python 3 (ipykernel)",
   "language": "python",
   "name": "python3"
  },
  "language_info": {
   "codemirror_mode": {
    "name": "ipython",
    "version": 3
   },
   "file_extension": ".py",
   "mimetype": "text/x-python",
   "name": "python",
   "nbconvert_exporter": "python",
   "pygments_lexer": "ipython3",
   "version": "3.9.12"
  }
 },
 "nbformat": 4,
 "nbformat_minor": 5
}
