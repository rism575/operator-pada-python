{
 "cells": [
  {
   "cell_type": "code",
   "execution_count": 2,
   "id": "96c90516",
   "metadata": {
    "scrolled": true
   },
   "outputs": [
    {
     "ename": "IndentationError",
     "evalue": "unexpected indent (2811243450.py, line 2)",
     "output_type": "error",
     "traceback": [
      "\u001b[1;36m  Input \u001b[1;32mIn [2]\u001b[1;36m\u001b[0m\n\u001b[1;33m    num2 = 7\u001b[0m\n\u001b[1;37m    ^\u001b[0m\n\u001b[1;31mIndentationError\u001b[0m\u001b[1;31m:\u001b[0m unexpected indent\n"
     ]
    }
   ],
   "source": [
    "   num1 = 20\n",
    "    num2 = 7\n",
    "   \n",
    "   hasil_jumlah     = num1 + num2\n",
    "    hasil_kurang     = num1 - num2\n",
    "    hasil_kali       = num1 * num2\n",
    "    hasil_bagi       = num1 / num2\n",
    "    hasil_bagi_bulat = num1 // num2\n",
    "    hasil_pangkat    = num1 ** num2\n",
    "    hasil_modulus    = num1 % num2\n",
    "    \n",
    "    \n"
   ]
  },
  {
   "cell_type": "code",
   "execution_count": null,
   "id": "d309a37f",
   "metadata": {},
   "outputs": [],
   "source": [
    "print(\"operator penugasan\")\n",
    "\n",
    "x = 10\n",
    "print(x) #10\n",
    "x += 5   #x = x + 5\n",
    "print(x) #15\n",
    "x -= 2   #x =x -2\n",
    "print(x) #13\n",
    "x *= 6   #x = x * 6\n",
    "print(x)\n",
    "x /= 1   #x = x / 1\n",
    "print(x)\n",
    "x // = 4 #x = x //4\n",
    "print(x)\n",
    "x ** = 7 \n",
    "\n"
   ]
  },
  {
   "cell_type": "code",
   "execution_count": 4,
   "id": "7bb59f85",
   "metadata": {},
   "outputs": [
    {
     "name": "stdout",
     "output_type": "stream",
     "text": [
      "operator pembandingan\n",
      "False\n",
      "True\n",
      "False\n",
      "True\n",
      "True\n",
      "True\n"
     ]
    }
   ],
   "source": [
    "print(\"operator pembandingan\")\n",
    "\n",
    "y = 5 \n",
    "z = 6\n",
    "print(y==z) #alse\n",
    "print(y!=z) #True\n",
    "print(y>z)  #False\n",
    "print(y<z)  #True\n",
    "print(y>=5) #True\n",
    "print(z<=6) #True\n"
   ]
  },
  {
   "cell_type": "code",
   "execution_count": 13,
   "id": "78314cfb",
   "metadata": {},
   "outputs": [
    {
     "name": "stdout",
     "output_type": "stream",
     "text": [
      "operator logika\n",
      "True\n",
      "True\n",
      "False\n"
     ]
    }
   ],
   "source": [
    "print(\"operator logika\")\n",
    "\n",
    "val1 = 10\n",
    "val2 = 5\n",
    "opr_and = val1 > 2 and val2 < 11 #True \n",
    "opr_or = val1 == 9 or val2 >=5 #True\n",
    "opr_not = not (opr_and and opr_or) #False\n",
    "\n",
    "print(opr_and)\n",
    "print(opr_or)\n",
    "print(opr_not)"
   ]
  },
  {
   "cell_type": "code",
   "execution_count": 22,
   "id": "c4ba0d55",
   "metadata": {},
   "outputs": [
    {
     "name": "stdout",
     "output_type": "stream",
     "text": [
      "operator identitas\n",
      "True\n",
      "False\n",
      "False\n",
      "False\n"
     ]
    }
   ],
   "source": [
    "print(\"operator identitas\")\n",
    "#ruang memori ,alamat memori\n",
    "#teknik hesing/lesing\n",
    "\n",
    "fruits = [\"Apal\",\"Semangka\",\"Durian\"]\n",
    "fav_fruits = fruits\n",
    "your_fruits =[\"Apal\",\"Semangka\",\"Durian\"]\n",
    "name = \"syahril gibran \"\n",
    "your_name = \"syahril gibran wangsa guna\"\n",
    "\n",
    "print(fav_fruits is fruits)\n",
    "print(fruits is your_fruits)\n",
    "print(name is your_name)\n",
    "print(name is your_name)"
   ]
  },
  {
   "cell_type": "code",
   "execution_count": 21,
   "id": "7e498d44",
   "metadata": {},
   "outputs": [
    {
     "name": "stdout",
     "output_type": "stream",
     "text": [
      "True\n",
      "False\n",
      "False\n",
      "False\n"
     ]
    }
   ],
   "source": [
    "city = [\"jakarta\",\"malang\",\"sukabumi\"]\n",
    "\n",
    "print(\"jakarta\" in city)\n",
    "print(\"bandung\" in city)\n",
    "print(\"malang\" not in city)\n",
    "print(\"sukabumi\" in city and \"malang\" not in city)"
   ]
  },
  {
   "cell_type": "code",
   "execution_count": 25,
   "id": "a5c11b22",
   "metadata": {},
   "outputs": [
    {
     "name": "stdout",
     "output_type": "stream",
     "text": [
      "operato betwise\n",
      "256\n",
      "31\n",
      "15\n",
      "255\n",
      "240\n"
     ]
    }
   ],
   "source": [
    "print(\"operato betwise\")\n",
    "\n",
    "nilai1 = 255\n",
    "nilai2 = 15\n",
    "bit_and = nilai1 & nilai2\n",
    "bit_or = nilai1 | nilai2\n",
    "bit_xor = nilai1 ^ nilai2\n",
    "#11111111 = 255\n",
    "#00001111 = 15\n",
    "#-------------and\n",
    "#00001111 = 15 and\n",
    "#11111111 = 255 or \n",
    "#11110000 = 240 xor\n",
    "\n",
    "#shift left\n",
    "print(128 << 1)\n",
    "#shift right \n",
    "print(126 >> 2)\n",
    "\n",
    "print(bit_and)\n",
    "print(bit_or)\n",
    "print(bit_xor)"
   ]
  },
  {
   "cell_type": "code",
   "execution_count": null,
   "id": "cc448bbe",
   "metadata": {},
   "outputs": [],
   "source": []
  }
 ],
 "metadata": {
  "kernelspec": {
   "display_name": "Python 3 (ipykernel)",
   "language": "python",
   "name": "python3"
  },
  "language_info": {
   "codemirror_mode": {
    "name": "ipython",
    "version": 3
   },
   "file_extension": ".py",
   "mimetype": "text/x-python",
   "name": "python",
   "nbconvert_exporter": "python",
   "pygments_lexer": "ipython3",
   "version": "3.9.12"
  }
 },
 "nbformat": 4,
 "nbformat_minor": 5
}
