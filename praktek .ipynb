{
 "cells": [
  {
   "cell_type": "code",
   "execution_count": 64,
   "id": "5ecb8ce9-1668-4651-a7db-a51b6e9a03fa",
   "metadata": {},
   "outputs": [
    {
     "name": "stdin",
     "output_type": "stream",
     "text": [
      "masukan nilai coding 49\n",
      "masukan nilai interview 49\n"
     ]
    },
    {
     "name": "stdout",
     "output_type": "stream",
     "text": [
      "49 Tes gagal\n",
      "49 Nilai C\n",
      "c Maaf kamu belum berhasil menjadi calon programmer\n"
     ]
    }
   ],
   "source": [
    "nilai_coding = int (input(\"masukan nilai coding\")) #kesalahan pada fungdi pada operator mengakibatkan fungsi tidak terpanggil\n",
    "nilai_interview = int (input(\"masukan nilai interview\"))\n",
    "\n",
    "hasil_penilaian == 'A' and 'B' \n",
    "\n",
    "if nilai_coding >80 <=100 :\n",
    "    print(f\"{nilai_coding} Anda lolos\")\n",
    "    print(f\"{nilai_coding} Nilai A\")\n",
    "    basil_penilaian = 'A'\n",
    "    if nilai_interview >80 <=100:\n",
    "        print(f\"{nilai_interview} Anda lolos\")\n",
    "        print(f\"{nilai_interview} Nilai A\")\n",
    "        hasil_penilaian = 'A'\n",
    "    elif nilai_interview >60 <=79:\n",
    "        print(f\"{nilai_interview} Anda dipertimbangkan \")\n",
    "        print(f\"{nilai_interview} Nilai B\")\n",
    "        hasil_penilaian = 'B'\n",
    "    elif nilai_interview >0 <=59:\n",
    "        print(f\"{nilai_interview} Tes gagal\")\n",
    "        print(f\"{nilai_interview} Nilai C\")\n",
    "        hasil_penilaian = 'C'\n",
    "elif nilai_coding >60 <=79:\n",
    "    print(f\"{nilai_coding} Anda dipertimbangkan\")\n",
    "    print(f\"{nilai_coding} Nilai B\")\n",
    "    hasil_penilaian = 'B'\n",
    "elif nilai_coding >0 <=59:\n",
    "    print(f\"{nilai_coding} Tes gagal\")\n",
    "    print(f\"{nilai_coding} Nilai C\")\n",
    "    hasil_penilaian = 'c'\n",
    "\n",
    "\n",
    "if hasil_penilaian != 'c':\n",
    "    print(f\"{hasil_penilaian} Selamat kamu berhasil menjadi calon programmer\")\n",
    "else:\n",
    "     print(f\"{hasil_penilaian} Maaf kamu belum berhasil menjadi calon programmer\")\n",
    "        \n",
    "            "
   ]
  },
  {
   "cell_type": "code",
   "execution_count": null,
   "id": "6f754cc4-5c60-4339-ae3a-d3a05043d402",
   "metadata": {},
   "outputs": [],
   "source": []
  }
 ],
 "metadata": {
  "kernelspec": {
   "display_name": "Python 3 (ipykernel)",
   "language": "python",
   "name": "python3"
  },
  "language_info": {
   "codemirror_mode": {
    "name": "ipython",
    "version": 3
   },
   "file_extension": ".py",
   "mimetype": "text/x-python",
   "name": "python",
   "nbconvert_exporter": "python",
   "pygments_lexer": "ipython3",
   "version": "3.11.7"
  }
 },
 "nbformat": 4,
 "nbformat_minor": 5
}
