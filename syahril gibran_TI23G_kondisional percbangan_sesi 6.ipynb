{
 "cells": [
  {
   "cell_type": "code",
   "execution_count": null,
   "id": "9f80a859",
   "metadata": {},
   "outputs": [],
   "source": [
    "#kondisional percabangan"
   ]
  },
  {
   "cell_type": "code",
   "execution_count": 6,
   "id": "ed3078b1",
   "metadata": {},
   "outputs": [
    {
     "name": "stdout",
     "output_type": "stream",
     "text": [
      "9 adalah bilangan ganjil\n"
     ]
    }
   ],
   "source": [
    "#Menentukan ganjil genap \n",
    "nilai = 9\n",
    "sisa_bagi = nilai % 2\n",
    "if sisa_bagi == 0:\n",
    "    print(f\"{nilai} adalah bilangan genap\")\n",
    "else:\n",
    "    print(f\"{nilai} adalah bilangan ganjil\")\n",
    "    "
   ]
  },
  {
   "cell_type": "markdown",
   "id": "ab6d5e29",
   "metadata": {},
   "source": [
    "#Hampir sama dengan yang di atas jika statemen lebih dari 2\n",
    "#if,elif,else\n",
    "\n",
    "if kondisi_1:\n",
    "    <tab>statement 1\n",
    "elif kondisi_2:\n",
    "    \n",
    "\n",
    "\n"
   ]
  },
  {
   "cell_type": "code",
   "execution_count": 1,
   "id": "19e3da82",
   "metadata": {},
   "outputs": [
    {
     "name": "stdout",
     "output_type": "stream",
     "text": [
      "Masukan Nilai200\n",
      "input salah\n"
     ]
    }
   ],
   "source": [
    "#konveri nilai\n",
    "#0 - 49 => E\n",
    "#50 - 59 => D\n",
    "#60 - 69 => c\n",
    "#70 - 84 => B\n",
    "#80 - 100 => \n",
    "\n",
    "nilai = int(input('Masukan Nilai')) #kondisi if di dalam if / nestead if\n",
    "if nilai >= 0 and nilai <=100:#kondisional percabangan\n",
    "    if nilai <= 49:\n",
    "         print (f\"E\")\n",
    "    elif nilai <= 59:\n",
    "          print (f\"D\")\n",
    "    elif nilai <= 69:\n",
    "          print(f\"C\")\n",
    "    elif nilai <= 84:\n",
    "          print(f\"B\")\n",
    "    elif nilai <= 100:\n",
    "           print (f\"A\")\n",
    "else :\n",
    "    print(\"input salah\")"
   ]
  },
  {
   "cell_type": "code",
   "execution_count": null,
   "id": "d8c9e51a",
   "metadata": {},
   "outputs": [
    {
     "name": "stdout",
     "output_type": "stream",
     "text": [
      "isikan Usernameadmin\n"
     ]
    }
   ],
   "source": [
    "\n",
    "\n",
    "username = input('isikan Username')\n",
    "password =  input('iskan pasword')\n",
    "\n",
    "if username == 'admin':\n",
    "    if password == 'admin':\n",
    "            print(f'Selamat Datang {username} ')\n",
    "    else:\n",
    "        print('pasword anda salah')\n",
    "else:\n",
    "    if password == 'admin':\n",
    "         print('username anda salah')\n",
    "    else:\n",
    "         print('usernam dan password anda salah')\n",
    "                \n"
   ]
  },
  {
   "cell_type": "code",
   "execution_count": 52,
   "id": "c27e8c6c",
   "metadata": {},
   "outputs": [
    {
     "ename": "SyntaxError",
     "evalue": "invalid syntax (482444481.py, line 3)",
     "output_type": "error",
     "traceback": [
      "\u001b[1;36m  Input \u001b[1;32mIn [52]\u001b[1;36m\u001b[0m\n\u001b[1;33m    Tempat Tinggal = str (input(\"Masukan Tempat tinggal:\"))\u001b[0m\n\u001b[1;37m           ^\u001b[0m\n\u001b[1;31mSyntaxError\u001b[0m\u001b[1;31m:\u001b[0m invalid syntax\n"
     ]
    }
   ],
   "source": [
    "Nama = str (input(\"Masukan nama:\")) #kesalahan vada awalan variable\n",
    "Umur = int (input(\"Masukan umur:\"))\n",
    "Tempat Tinggal = str (input(\"Masukan Tempat tinggal:\"))\n",
    "Uang = int (input(\"Masukan uang:\"))\n",
    "\n",
    "if Umur > 40:\n",
    "    if Tempat == 'Nevada' or Tempat == 'Newyork'or Tempat == 'Havana':\n",
    "        if uang > 10000000:\n",
    "            print(f'Tersangka Don')"
   ]
  },
  {
   "cell_type": "code",
   "execution_count": 4,
   "id": "49d55bc4",
   "metadata": {},
   "outputs": [
    {
     "name": "stdout",
     "output_type": "stream",
     "text": [
      "Masukan nama: Din\n",
      "Masukan umur: 43\n",
      "Masukan Tempat tinggal: Nevada\n",
      "Masukan uang: 100000000\n",
      "Din kemungkinan anggota mafia dengan pangkat Don\n"
     ]
    }
   ],
   "source": [
    "nama = str (input(\"Masukan nama: \"))\n",
    "umur = int (input(\"Masukan umur: \"))\n",
    "tempat = str (input(\"Masukan Tempat tinggal: \"))\n",
    "uang = int(input(\"Masukan uang: \"))\n",
    "\n",
    "pangkat = ''\n",
    "    \n",
    "if umur > 40:\n",
    "    if tempat == 'Nevada' or tempat == 'New york'or tempat == 'Havana':\n",
    "        if uang > 10000000:\n",
    "             pangkat ='Don'\n",
    "\n",
    "if pangkat != '':\n",
    "    print (f\"{nama} kemungkinan anggota mafia dengan pangkat {pangkat}\")\n",
    "else:\n",
    "    print(f\"{nama} tidak mecurigakan\")\n",
    "    "
   ]
  }
 ],
 "metadata": {
  "kernelspec": {
   "display_name": "Python 3 (ipykernel)",
   "language": "python",
   "name": "python3"
  },
  "language_info": {
   "codemirror_mode": {
    "name": "ipython",
    "version": 3
   },
   "file_extension": ".py",
   "mimetype": "text/x-python",
   "name": "python",
   "nbconvert_exporter": "python",
   "pygments_lexer": "ipython3",
   "version": "3.9.12"
  }
 },
 "nbformat": 4,
 "nbformat_minor": 5
}
